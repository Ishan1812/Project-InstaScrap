{
 "cells": [
  {
   "cell_type": "markdown",
   "id": "4075c539",
   "metadata": {},
   "source": [
    "# About Project\n",
    "\n",
    "Instascrap is a powerful web scraping tool designed to extract valuable information and data from Instagram. Using the Selenium framework, this project allows users to programmatically interact with Instagram's web interface, enabling the automated collection of content related to a specific topic.\n",
    "\n",
    "## Project Objective\n",
    "The primary objective of Instabot is to simplify the process of data extraction from Instagram by providing a user-friendly and customizable tool. By leveraging the capabilities of Selenium, the project aims to enable users to scrape data, such as usernames, hashtags, and user information, relevant to their chosen topic."
   ]
  },
  {
   "cell_type": "code",
   "execution_count": 1,
   "id": "ba122f42",
   "metadata": {},
   "outputs": [
    {
     "name": "stderr",
     "output_type": "stream",
     "text": [
      "C:\\Users\\Ishan\\AppData\\Local\\Temp\\ipykernel_27700\\823236478.py:3: DeprecationWarning: executable_path has been deprecated, please pass in a Service object\n",
      "  driver = webdriver.Edge(executable_path = '/msedgedriver')\n",
      "Incompatible release of msedgedriver (version 113.0.1774.7) detected in PATH: C:\\Users\\Ishan\\msedgedriver.exe\n"
     ]
    }
   ],
   "source": [
    "# Importing libraries and starting the driver\n",
    "from selenium import webdriver\n",
    "from selenium.webdriver.support import expected_conditions as EC\n",
    "from selenium.webdriver.support.ui import WebDriverWait\n",
    "from selenium.webdriver.common.by import By\n",
    "from selenium.common.exceptions import TimeoutException\n",
    "from bs4 import BeautifulSoup\n",
    "from collections import OrderedDict \n",
    "import time\n",
    "from datetime import datetime, timedelta\n",
    "\n",
    "import pandas as pd\n",
    "import numpy as np\n",
    "import matplotlib.pyplot as plt\n",
    "driver = webdriver.Edge(executable_path = '/msedgedriver')\n",
    "driver.get(\"https://www.instagram.com/\")"
   ]
  },
  {
   "cell_type": "code",
   "execution_count": 14,
   "id": "fb639a45",
   "metadata": {},
   "outputs": [],
   "source": [
    "# Paste your ID and Password\n",
    "username = 'SAMPLE USERNAME'\n",
    "password = 'SAMPLE PASSWORD'"
   ]
  },
  {
   "cell_type": "code",
   "execution_count": 15,
   "id": "ad647375",
   "metadata": {},
   "outputs": [],
   "source": [
    "# Initializing  wait object\n",
    "wait = WebDriverWait(driver, 10)"
   ]
  },
  {
   "cell_type": "markdown",
   "id": "b1b03d25",
   "metadata": {},
   "source": [
    "## Login into instagram\n",
    "Logging in instagram account using the following function:"
   ]
  },
  {
   "cell_type": "code",
   "execution_count": 16,
   "id": "dc0ca4bd",
   "metadata": {},
   "outputs": [],
   "source": [
    "def LogIn(username, password):\n",
    "    try :\n",
    "        #locating username textbox and sending username\n",
    "        user_name = wait.until(EC.presence_of_element_located((By.NAME,'username')))\n",
    "        user_name.send_keys(username)\n",
    "        #locating password box and sending password\n",
    "        pwd = driver.find_element_by_name('password')\n",
    "        pwd.send_keys(password)\n",
    "        #locating login button \n",
    "        button = wait.until(EC.presence_of_element_located((By.XPATH,'//*[@id=\"loginForm\"]/div[1]/div[3]/button/div')))\n",
    "        button.submit()\n",
    "        #Save Your Login Info? : Not Now\n",
    "        pop = wait.until(EC.presence_of_element_located((By.XPATH,'//*[@id=\"react-root\"]/section/main/div/div/div/div/button')))\n",
    "        pop.click()\n",
    "        \n",
    "    except TimeoutException :\n",
    "        print (\"Something went wrong! Try Again\")\n",
    "\n",
    "#Login to your Instagram Handle\n",
    "LogIn(username, password)"
   ]
  },
  {
   "cell_type": "markdown",
   "id": "e1be0ec0",
   "metadata": {},
   "source": [
    "## Searching for topic\n",
    "\n",
    "Locating the search button in instagram and then searching for a particular topic about which we will scrap the data."
   ]
  },
  {
   "cell_type": "code",
   "execution_count": 17,
   "id": "70d8c30b",
   "metadata": {},
   "outputs": [
    {
     "name": "stdout",
     "output_type": "stream",
     "text": [
      "dilsefoodie\n",
      "foodtalkindia\n",
      "foodmaniacinthehouse\n",
      "food.darzee\n",
      "yourfoodlab\n",
      "dilsefoodie_\n",
      "food\n",
      "foodnetwork\n",
      "insiderfood\n",
      "foodiesfeature\n",
      "foodplanet001\n",
      "delhifoodguide\n",
      "food_belly11\n",
      "food_lunatic\n",
      "delhifoodie\n",
      "bangalore_foodjunkies\n",
      "food_and_makeup_lover\n",
      "foodgastic_amdavadi\n",
      "street_food_chandigarh\n",
      "buzzfeedfood\n",
      "thefoodranger\n",
      "hmm_nikhil\n",
      "pune_food_blogger\n",
      "food_junc\n",
      "sattorifoodlab\n",
      "foodie_girl_sneha\n",
      "hyderabad.food.diaries\n",
      "indianfood_lovers\n",
      "foodofchennai\n",
      "ndtv_food\n",
      "foodelhi\n",
      "fityetfoodie\n",
      "foodiesdelhite\n",
      "foodys\n",
      "food_affair\n"
     ]
    }
   ],
   "source": [
    "def search(s):\n",
    "    try:\n",
    "        #locating serch bar and sending text\n",
    "        search_box = wait.until(EC.presence_of_element_located((By.CLASS_NAME,'XTCLo')))\n",
    "        search_box.send_keys(s)\n",
    "        #waiting till all searched is located\n",
    "        wait.until(EC.presence_of_element_located((By.CLASS_NAME,'yCE8d')))\n",
    "        #extracting all serched handle\n",
    "        handle_names = driver.find_elements_by_class_name('yCE8d')\n",
    "        names = []\n",
    "        #extracting username\n",
    "        for i in handle_names :\n",
    "            if i.text[0] != '#' :\n",
    "                names.append(i.text.split('\\n')[0])             \n",
    "\n",
    "        time.sleep(5)\n",
    "        #clearing search bar\n",
    "        driver.find_element_by_class_name('coreSpriteSearchClear').click()\n",
    " \n",
    "        return names\n",
    "    \n",
    "    except TimeoutException :\n",
    "        print('No Search Found!')\n",
    "    \n",
    "#extracting all the names of the Instagram Handles that are displayed in list after typing YOUR_WORD usimg search(YOUR_WORD)\n",
    "name_list = search(YOUR_WORD)\n",
    "for i in name_list :\n",
    "    print(i)"
   ]
  },
  {
   "cell_type": "markdown",
   "id": "27ac1d51",
   "metadata": {},
   "source": [
    "## Top 10 instagram relevant accounts\n",
    "Finding the top accounts related to our topic."
   ]
  },
  {
   "cell_type": "code",
   "execution_count": 18,
   "id": "5d9e9107",
   "metadata": {},
   "outputs": [],
   "source": [
    "# As instagram shows the most relevant accounts of a topic at a moment, we will extract first 10 followers and then arrange them on the basis of most followers\n",
    "#Adding top 10 accounts\n",
    "handles_list = ['dilsefoodie','foodtalkindia','foodmaniacinthehouse','food.darzee','yourfoodlab','dilsefoodie_','food',\n",
    "               'foodnetwork','foodinsider','foodiesfeature']"
   ]
  },
  {
   "cell_type": "code",
   "execution_count": 19,
   "id": "0ed4cee2",
   "metadata": {},
   "outputs": [
    {
     "name": "stdout",
     "output_type": "stream",
     "text": [
      "Top 5 instagram handles which have the highest number of followers :\n",
      "foodnetwork -> 1262437\n",
      "insiderfood -> 3010717\n",
      "yourfoodlab -> 2614574\n",
      "dilsefoodie -> 1004547\n",
      "foodtalkindia -> 305460\n",
      "\n",
      "\n",
      "Number of posts these handles have done in the previous 3 days : -\n",
      "foodnetwork 27\n",
      "foodinsider 5\n",
      "yourfoodlab 6\n",
      "dilsefoodie 3\n",
      "foodtalkindia 1\n"
     ]
    },
    {
     "data": {
      "image/png": "[encoded data removed]",
      "text/plain": [
       "<Figure size 432x288 with 1 Axes>"
      ]
     },
     "metadata": {
      "needs_background": "light"
     },
     "output_type": "display_data"
    }
   ],
   "source": [
    "#Function for getting top 5 handle which have highest number of followers\n",
    "def top_5_handles(lst):\n",
    "    try:\n",
    "        #dct contains username with number of followers\n",
    "        dct = {}\n",
    "        for i in lst :\n",
    "            #This fuction will search a user and open that profile\n",
    "            search_open_profile(i)\n",
    "            time.sleep(2)\n",
    "            #Locating followers of user\n",
    "            followers = wait.until(EC.presence_of_all_elements_located((By.CLASS_NAME,'g47SY')))[1]\n",
    "            # Replacing ',' with '' and converted into int\n",
    "            dct[i] = int(followers.get_attribute('title').replace(',' , ''))\n",
    "        #Top 5 most followed user\n",
    "        count = 0\n",
    "        res = OrderedDict()\n",
    "        for i in sorted(dct, key=dct.get, reverse=True):\n",
    "            res[i] = dct[i]\n",
    "            count += 1\n",
    "            if(count >= 5) : \n",
    "                break\n",
    "                \n",
    "        return res\n",
    "    except TimeoutException :\n",
    "        print (\"Something went wrong! Try Again\")\n",
    "top_handles = top_5_handles(handles_list)\n",
    "print('Top 5 instagram handles which have the highest number of followers :')\n",
    "for uname in top_handles:\n",
    "    print(uname,'->',top_handles[uname])\n",
    "print(\"\")\n",
    "print(\"\") \n",
    "#This function returns number of post posted by user in n days\n",
    "def count_of_post(day):\n",
    "    try :\n",
    "        #Locating first post\n",
    "        post = wait.until(EC.presence_of_element_located((By.CLASS_NAME,'v1Nh3')))\n",
    "        post.click()\n",
    "        \n",
    "        count = 0 \n",
    "        while True :\n",
    "            #Getting date of the the post\n",
    "            temp = wait.until(EC.presence_of_element_located((By.CLASS_NAME,'_1o9PC')))\n",
    "            #Getting date in string format\n",
    "            date_string = temp.get_attribute('datetime')\n",
    "            #Converting into date format\n",
    "            date = datetime.strptime(date_string[0:19], \"%Y-%m-%dT%H:%M:%S\")\n",
    "            #Taking differnce between today's date and post posted date\n",
    "            if (datetime.now() - date).days > day :\n",
    "                break\n",
    "            else :\n",
    "                count += 1\n",
    "            #Locating next button\n",
    "            next_but = wait.until(EC.presence_of_element_located((By.CLASS_NAME,'coreSpriteRightPaginationArrow')))\n",
    "            next_but.click()\n",
    "        #closing the post\n",
    "        close=driver.find_element_by_xpath(\"/html/body/div[4]/div[3]/button\")\n",
    "        close.click()\n",
    "        return count\n",
    "    \n",
    "    except TimeoutException :\n",
    "        print (\"Something went wrong! Try Again\")\n",
    "\n",
    "total_post_count = {}\n",
    "for i in top_handles :\n",
    "    search_open_profile(i)\n",
    "    time.sleep(2)\n",
    "    count = count_of_post(3)\n",
    "    total_post_count[i] = count\n",
    "print('Number of posts these handles have done in the previous 3 days : -')\n",
    "for i in total_post_count:\n",
    "    print(i,total_post_count[i])\n",
    "    \n",
    "#Using total_post_count to get username and number of post\n",
    "x = total_post_count.keys()\n",
    "y = total_post_count.values()\n",
    "plt.bar(x,y,color='g',alpha=0.6)\n",
    "plt.ylabel(\"Number of posts in the previous 3 days\",size=10)\n",
    "plt.xlabel(\"Username\",size=10)\n",
    "plt.title('Most Followed user vs Number of recent posts ',fontsize=20, color='green',alpha=0.8)\n",
    "plt.grid()\n",
    "plt.show()"
   ]
  },
  {
   "cell_type": "markdown",
   "id": "7126b8c3",
   "metadata": {},
   "source": [
    "## List of Hashtags\n",
    "Scraping the hashtags used in posts related to our topic."
   ]
  },
  {
   "cell_type": "code",
   "execution_count": 9,
   "id": "61529854",
   "metadata": {},
   "outputs": [
    {
     "name": "stdout",
     "output_type": "stream",
     "text": [
      "['#VivsTips', '#DeliciousMissBrown', '#WhatADissapointment', '#FreakshowCakes', '#WorstCooks', '#WorstCooks', '#WorstCooks', '#WorstCooks', '#HalloweenBakingChampionship', '#SouthernKitchen', '#arizona', '#statefair', '#corndog', '#chili', '#cincinnati', '#midwest', '#kfc', '#kfclocker', '#kfcjapan', '#ukranian', '#newyorkcity', '#food', '#dumplings', '#amazon', '#amazonprimeday', '#primeday', '#primeday2020', '#kitchendeals', '#friedchicken', '#atlanta', '#chicken', '#thaifriedchicken', '#friedchicken', '#thaifood', '#losangeles', '#recipes', '#pulao', '#foodporn', '#brightwin', '#foodiesofinstagram', '#foodlover', '#rice', '#recipeoftheday', '#mumbaifoodie', '#sanjyotkeer', '#mumbaistreetfood', '#mumbaifood', '#recipe', '#foodie', '#foodstagram', '#dosa', '#dosalover', '#indianclicks', '#indiancuisine', '#streetfood', '#recipe', '#foodie', '#indiancuisine', '#streetfood', '#foodporn', '#comfortfood', '#streetphotography', '#sanjyotkeer', '#food', '#navratri', '#noonionnogarlic', '#foodie', '#recipes', '#recipeoftheday', '#foodporn', '#food', '#yourfoodlab', '#sanjyotkeer', '#streetfood', '#comfortfood', '#frankie', '#recipeoftheday', '#frankie', '#rolls', '#foodporn', '#streetstyle', '#streetfood', '#comfortfood', '#yummyfood', '#noodles', '#noodle', '#sanjyotkeer', '#foodstagram', '#recipe', '#foodie', '#mumbaifoodie', '#mumbaistreetfood', '#comfortfood', '#sanjyotkeer', '#streetfood', '#foodporn', '#yourfoodlab', '#mumbaifood', '#recipeoftheday', '#recipe', '#reelsinstagram', '#streetfood', '#paneer', '#pizza', '#pizzalover', '#pizzapizzapizza', '#food', '#pizzatime', '#paneer', '#paneerlove', '#sanjyot', '#recipes', '#foodie', '#cake', '#cakesofinstagram', '#foodporn', '#sanjyotkeer', '#comfortfood', '#recipe', '#foodie', '#foodiesofinstagram', '#cakestagram', '#cakedecorating', '#cakecakecake', '#cakedesigner', '#almond', '#almondcake', '#teatimesnacks', '#tealovers', '#sanjyotkeer', '#mumbai_ig', '#recipe', '#foodiesofinstagram', '#streetfood', '#comfortfood', '#foodporn', '#bhuna', '#sanjyotkeer', '#dilsefoodie', '#dugdugdug', '#dilsefoodie', '#Dad', '#Love', '#dilsefoodie', '#dilsefoodie', '#OreoReciPic', '#Oreo', '#ContestAlert', '#RecipeContest', '#Contestgram', '#Contestgiveaway', '#Competition', '#Participate', '#India', '#dilsefoodie', '#dad', '#love', '#forever', '#dilsefoodie', '#dilsefoodie', '#dilsefoodie', '#dilsefoodie', '#superwoman', '#GiveawayAlert', '#LesRochesConnect', '#LesRochesWayOfLife', '#GlionConnect', '#GlionSpirit', '#LesRochesConnect', '#LesRochesWayOfLife', '#GlionConnect', '#GlionSpirit', '#LesRochesConnect', '#LesRochesWayOfLife', '#GlionConnect', '#GlionSpirit', '#ContestAlert', '#NewInTown', '#WorldEggDay']\n"
     ]
    }
   ],
   "source": [
    "def extract_content(lst):\n",
    "    try :\n",
    "        hashtags_list = []\n",
    "        for user in lst:\n",
    "            #This fuction will search a user and open that profile\n",
    "            search_open_profile(user)\n",
    "            time.sleep(2)\n",
    "            #just for scrolling to getting post\n",
    "            driver.execute_script('window.scrollTo(0, 3000);')\n",
    "            time.sleep(2)\n",
    "            driver.execute_script('window.scrollTo(0, -3000);')\n",
    "            time.sleep(2)\n",
    "            #locating the post of the user\n",
    "            posts = driver.find_elements_by_class_name('v1Nh3')\n",
    "            for post in posts[:10]:\n",
    "                post.click()\n",
    "                time.sleep(2)\n",
    "                #locating all hashtag used in this post\n",
    "                hashtags=driver.find_elements_by_class_name(\"xil3i\")\n",
    "                for hashtag in hashtags:\n",
    "                    #appending in list\n",
    "                    hashtags_list.append(hashtag.text)  \n",
    "                \n",
    "                #locating close button and clicking on it\n",
    "                close=driver.find_element_by_xpath(\"/html/body/div[4]/div[3]/button\")\n",
    "                time.sleep(1)\n",
    "                close.click()\n",
    "        return hashtags_list\n",
    "    \n",
    "    except TimeoutException :\n",
    "        print (\"Something went wrong! Try Again\")\n",
    "\n",
    "handles = list(total_post_count.keys())\n",
    "hashtags = extract_content(handles)\n",
    "print(hashtags)"
   ]
  },
  {
   "cell_type": "code",
   "execution_count": 20,
   "id": "3df91c17",
   "metadata": {},
   "outputs": [
    {
     "name": "stdout",
     "output_type": "stream",
     "text": [
      "#dilsefoodie 9\n",
      "#sanjyotkeer 8\n",
      "#foodporn 7\n",
      "#streetfood 7\n",
      "#recipe 6\n",
      "#foodie 6\n",
      "#comfortfood 6\n",
      "#WorstCooks 4\n",
      "#food 4\n",
      "#recipeoftheday 4\n",
      "#recipes 3\n",
      "#foodiesofinstagram 3\n",
      "#LesRochesConnect 3\n",
      "#LesRochesWayOfLife 3\n",
      "#GlionConnect 3\n",
      "#GlionSpirit 3\n",
      "#friedchicken 2\n",
      "#mumbaifoodie 2\n",
      "#mumbaistreetfood 2\n",
      "#mumbaifood 2\n",
      "#foodstagram 2\n",
      "#indiancuisine 2\n",
      "#yourfoodlab 2\n",
      "#frankie 2\n",
      "#paneer 2\n",
      "#ContestAlert 2\n",
      "#VivsTips 1\n",
      "#DeliciousMissBrown 1\n",
      "#WhatADissapointment 1\n",
      "#FreakshowCakes 1\n",
      "#HalloweenBakingChampionship 1\n",
      "#SouthernKitchen 1\n",
      "#arizona 1\n",
      "#statefair 1\n",
      "#corndog 1\n",
      "#chili 1\n",
      "#cincinnati 1\n",
      "#midwest 1\n",
      "#kfc 1\n",
      "#kfclocker 1\n",
      "#kfcjapan 1\n",
      "#ukranian 1\n",
      "#newyorkcity 1\n",
      "#dumplings 1\n",
      "#amazon 1\n",
      "#amazonprimeday 1\n",
      "#primeday 1\n",
      "#primeday2020 1\n",
      "#kitchendeals 1\n",
      "#atlanta 1\n",
      "#chicken 1\n",
      "#thaifriedchicken 1\n",
      "#thaifood 1\n",
      "#losangeles 1\n",
      "#pulao 1\n",
      "#brightwin 1\n",
      "#foodlover 1\n",
      "#rice 1\n",
      "#dosa 1\n",
      "#dosalover 1\n",
      "#indianclicks 1\n",
      "#streetphotography 1\n",
      "#navratri 1\n",
      "#noonionnogarlic 1\n",
      "#rolls 1\n",
      "#streetstyle 1\n",
      "#yummyfood 1\n",
      "#noodles 1\n",
      "#noodle 1\n",
      "#reelsinstagram 1\n",
      "#pizza 1\n",
      "#pizzalover 1\n",
      "#pizzapizzapizza 1\n",
      "#pizzatime 1\n",
      "#paneerlove 1\n",
      "#sanjyot 1\n",
      "#cake 1\n",
      "#cakesofinstagram 1\n",
      "#cakestagram 1\n",
      "#cakedecorating 1\n",
      "#cakecakecake 1\n",
      "#cakedesigner 1\n",
      "#almond 1\n",
      "#almondcake 1\n",
      "#teatimesnacks 1\n",
      "#tealovers 1\n",
      "#mumbai_ig 1\n",
      "#bhuna 1\n",
      "#dugdugdug 1\n",
      "#Dad 1\n",
      "#Love 1\n",
      "#OreoReciPic 1\n",
      "#Oreo 1\n",
      "#RecipeContest 1\n",
      "#Contestgram 1\n",
      "#Contestgiveaway 1\n",
      "#Competition 1\n",
      "#Participate 1\n",
      "#India 1\n",
      "#dad 1\n",
      "#love 1\n",
      "#forever 1\n",
      "#superwoman 1\n",
      "#GiveawayAlert 1\n",
      "#NewInTown 1\n",
      "#WorldEggDay 1\n"
     ]
    }
   ],
   "source": [
    "dct = {}\n",
    "words_list = []\n",
    "for word in hashtags:\n",
    "    dct[word] = dct.get(word,0) + 1\n",
    "    \n",
    "for i in sorted(dct, key=dct.get, reverse=True):\n",
    "    words_list.append([i,dct[i]])\n",
    "    print(i,dct[i])"
   ]
  },
  {
   "cell_type": "code",
   "execution_count": 21,
   "id": "b0f367b5",
   "metadata": {
    "scrolled": false
   },
   "outputs": [
    {
     "data": {
      "image/png": "[encoded data removed]",
      "text/plain": [
       "<Figure size 864x432 with 1 Axes>"
      ]
     },
     "metadata": {},
     "output_type": "display_data"
    }
   ],
   "source": [
    "hashtag_name = [words_list[0][0],words_list[1][0],words_list[2][0],words_list[3][0],words_list[4][0]]\n",
    "count = [words_list[0][1],words_list[1][1],words_list[2][1],words_list[3][1],words_list[4][1]]\n",
    "plt.figure(figsize=(12,6))\n",
    "plt.pie(count,labels=hashtag_name,autopct='%0.2f%%',radius=1,counterclock=False,startangle=110)\n",
    "plt.title('Top 5 Hashtags used by bloggers ',fontsize=20, color='green',alpha=0.8)\n",
    "plt.show()"
   ]
  },
  {
   "cell_type": "markdown",
   "id": "32926a71",
   "metadata": {},
   "source": [
    "## Conclusion\n",
    "In conclusion, the Instagram Data Scraper project offers immense value by providing valuable insights into the vast and dynamic world of Instagram. Through automated data extraction and analysis, users can gain a deeper understanding of user behavior, content trends, and popular hashtags on the platform.\n",
    "While using this scraper, it is crucial to exercise responsible and ethical scraping practices, respecting the terms of service and privacy of Instagram users.\n",
    "\n",
    "#### Thank you and I hope this InstaScrap data scraper will be helpful to you."
   ]
  }
 ],
 "metadata": {
  "kernelspec": {
   "display_name": "Python 3 (ipykernel)",
   "language": "python",
   "name": "python3"
  },
  "language_info": {
   "codemirror_mode": {
    "name": "ipython",
    "version": 3
   },
   "file_extension": ".py",
   "mimetype": "text/x-python",
   "name": "python",
   "nbconvert_exporter": "python",
   "pygments_lexer": "ipython3",
   "version": "3.9.12"
  }
 },
 "nbformat": 4,
 "nbformat_minor": 5
}
